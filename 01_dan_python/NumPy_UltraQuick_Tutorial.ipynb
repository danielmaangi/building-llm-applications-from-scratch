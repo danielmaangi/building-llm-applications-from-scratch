{
  "cells": [
    {
      "cell_type": "code",
      "execution_count": null,
      "metadata": {
        "cellView": "form",
        "id": "JuGzpxT_Z1EU"
      },
      "outputs": [],
      "source": [
        "#@title Copyright 2020 Google LLC. Double-click here for license information.\n",
        "# Licensed under the Apache License, Version 2.0 (the \"License\");\n",
        "# you may not use this file except in compliance with the License.\n",
        "# You may obtain a copy of the License at\n",
        "#\n",
        "# https://www.apache.org/licenses/LICENSE-2.0\n",
        "#\n",
        "# Unless required by applicable law or agreed to in writing, software\n",
        "# distributed under the License is distributed on an \"AS IS\" BASIS,\n",
        "# WITHOUT WARRANTIES OR CONDITIONS OF ANY KIND, either express or implied.\n",
        "# See the License for the specific language governing permissions and\n",
        "# limitations under the License."
      ]
    },
    {
      "cell_type": "markdown",
      "metadata": {
        "id": "T4r2z30vJSbA"
      },
      "source": [
        "# Colabs\n",
        "\n",
        "Machine Learning Crash Course uses Colaboratories (Colabs) for all programming exercises. Colab is Google's implementation of [Jupyter Notebook](https://jupyter.org/). For more information about Colabs and how to use them, go to [Welcome to Colaboratory](https://research.google.com/colaboratory)."
      ]
    },
    {
      "cell_type": "markdown",
      "metadata": {
        "id": "azZFyENLZm_g"
      },
      "source": [
        "# NumPy UltraQuick Tutorial\n",
        "\n",
        "[Numpy](https://numpy.org/doc/stable/index.html) is a Python library for creating and manipulating matrices, the main data structure used by ML algorithms. [Matrices](https://en.wikipedia.org/wiki/Matrix_(mathematics)) are mathematical objects used to store values in rows and columns.\n",
        "\n",
        "Python calls matrices *lists*, NumPy calls them *arrays* and TensorFlow calls them *tensors*. Python represents matrices with the [list data type](https://docs.python.org/3/library/stdtypes.html#lists).\n",
        "\n",
        "This Colab is not an exhaustive tutorial on NumPy.  Rather, this Colab teaches you just enough to use NumPy in the Colab exercises of Machine Learning Crash Course."
      ]
    },
    {
      "cell_type": "markdown",
      "metadata": {
        "id": "Ll9RWewwFwX6"
      },
      "source": [
        "## Import NumPy module\n",
        "\n",
        "Run the following code cell to import the NumPy module:"
      ]
    },
    {
      "cell_type": "code",
      "execution_count": 1,
      "metadata": {
        "id": "guvPzSWYJGZ4"
      },
      "outputs": [],
      "source": [
        "import numpy as np"
      ]
    },
    {
      "cell_type": "markdown",
      "metadata": {
        "id": "7cT9fXS_JUpa"
      },
      "source": [
        "## Populate arrays with specific numbers\n",
        "\n",
        "Call `np.array` to create a NumPy array with your own hand-picked values. For example, the following call to `np.array` creates an 8-element array:"
      ]
    },
    {
      "cell_type": "code",
      "execution_count": 5,
      "metadata": {
        "id": "XxJR5xKpJbB3"
      },
      "outputs": [
        {
          "name": "stdout",
          "output_type": "stream",
          "text": [
            "[1.2 2.4 3.5 4.7 6.1 7.2 8.3 9.5]\n"
          ]
        }
      ],
      "source": [
        "one_dimensional_array = np.array([1.2, 2.4, 3.5, 4.7, 6.1, 7.2, 8.3, 9.5])\n",
        "print(one_dimensional_array) # one dimension implies a single axes"
      ]
    },
    {
      "cell_type": "markdown",
      "metadata": {
        "id": "RKywqhLTbR1M"
      },
      "source": [
        "You can also use `np.array` to create a two-dimensional array. To create a two-dimensional array specify an extra layer of square brackets. For example, the following call creates a 3x2 array:"
      ]
    },
    {
      "cell_type": "code",
      "execution_count": 4,
      "metadata": {
        "id": "_veGj18eMCDu"
      },
      "outputs": [
        {
          "name": "stdout",
          "output_type": "stream",
          "text": [
            "[[ 6  5]\n",
            " [11  7]\n",
            " [ 4  8]]\n"
          ]
        }
      ],
      "source": [
        "two_dimensional_array = np.array([[6, 5], [11, 7], [4, 8]])\n",
        "print(two_dimensional_array) # 2 dimension implies two axes "
      ]
    },
    {
      "cell_type": "code",
      "execution_count": 6,
      "metadata": {},
      "outputs": [
        {
          "name": "stdout",
          "output_type": "stream",
          "text": [
            "[[[1 2]\n",
            "  [3 4]]\n",
            "\n",
            " [[5 6]\n",
            "  [7 8]]]\n"
          ]
        }
      ],
      "source": [
        "three_dim_array = np.array([[[1, 2], [3, 4]], [[5, 6], [7, 8]]])\n",
        "print(three_dim_array)"
      ]
    },
    {
      "cell_type": "code",
      "execution_count": null,
      "metadata": {},
      "outputs": [
        {
          "name": "stdout",
          "output_type": "stream",
          "text": [
            "(2, 2, 2)\n"
          ]
        }
      ],
      "source": [
        "print(three_dim_array.shape) # 3 axes: depth, rows, and columns."
      ]
    },
    {
      "cell_type": "markdown",
      "metadata": {
        "id": "0ED7eug9CvGR"
      },
      "source": [
        "To populate an array with all zeroes, call `np.zeros`. To populate an array with all ones, call `np.ones`."
      ]
    },
    {
      "cell_type": "code",
      "execution_count": 9,
      "metadata": {},
      "outputs": [
        {
          "name": "stdout",
          "output_type": "stream",
          "text": [
            "Array of zeros:\n",
            "[[0. 0. 0. 0.]\n",
            " [0. 0. 0. 0.]\n",
            " [0. 0. 0. 0.]\n",
            " [0. 0. 0. 0.]\n",
            " [0. 0. 0. 0.]]\n"
          ]
        }
      ],
      "source": [
        "# Create an array of zeros\n",
        "# Format: np.zeros(shape)\n",
        "zeros_array = np.zeros((5, 4))  # Creates a 3x4 array of zeros\n",
        "print(\"Array of zeros:\")\n",
        "print(zeros_array)"
      ]
    },
    {
      "cell_type": "code",
      "execution_count": 10,
      "metadata": {},
      "outputs": [
        {
          "name": "stdout",
          "output_type": "stream",
          "text": [
            "Array of ones:\n",
            "[[1. 1. 1. 1.]\n",
            " [1. 1. 1. 1.]\n",
            " [1. 1. 1. 1.]\n",
            " [1. 1. 1. 1.]\n",
            " [1. 1. 1. 1.]]\n"
          ]
        }
      ],
      "source": [
        "# Create an array of zeros\n",
        "# Format: np.zeros(shape)\n",
        "ones_array = np.ones((5, 4))  # Creates a 3x4 array of zeros\n",
        "print(\"Array of ones:\")\n",
        "print(ones_array)"
      ]
    },
    {
      "cell_type": "markdown",
      "metadata": {
        "id": "gEy_pdBoROu3"
      },
      "source": [
        "## Populate arrays with sequences of numbers\n",
        "\n",
        "You can populate an array with a sequence of numbers:"
      ]
    },
    {
      "cell_type": "code",
      "execution_count": 11,
      "metadata": {
        "id": "CjHfYWhdQYtO"
      },
      "outputs": [
        {
          "name": "stdout",
          "output_type": "stream",
          "text": [
            "[ 5  6  7  8  9 10 11]\n"
          ]
        }
      ],
      "source": [
        "sequence_of_integers = np.arange(5, 12)\n",
        "print(sequence_of_integers)"
      ]
    },
    {
      "cell_type": "markdown",
      "metadata": {
        "id": "1x3OoWrPWn8S"
      },
      "source": [
        "Notice that `np.arange` generates a sequence that includes the lower bound (5) but not the upper bound (12)."
      ]
    },
    {
      "cell_type": "code",
      "execution_count": 14,
      "metadata": {},
      "outputs": [
        {
          "name": "stdout",
          "output_type": "stream",
          "text": [
            "arange(5): [0 1 2 3 4]\n"
          ]
        }
      ],
      "source": [
        "# Basic usage: np.arange(stop)\n",
        "# Creates array from 0 to stop-1\n",
        "array1 = np.arange(5)  # [0, 1, 2, 3, 4]\n",
        "print(\"arange(5):\", array1)"
      ]
    },
    {
      "cell_type": "code",
      "execution_count": 15,
      "metadata": {},
      "outputs": [
        {
          "name": "stdout",
          "output_type": "stream",
          "text": [
            "arange(1, 10, 2): [1 3 5 7 9]\n"
          ]
        }
      ],
      "source": [
        "# With start, stop, and step: np.arange(start, stop, step)\n",
        "array3 = np.arange(1, 10, 2)  # [1, 3, 5, 7, 9]\n",
        "print(\"arange(1, 10, 2):\", array3)"
      ]
    },
    {
      "cell_type": "markdown",
      "metadata": {
        "id": "aiqqxDBINAOY"
      },
      "source": [
        "## Populate arrays with random numbers\n",
        "\n",
        "NumPy provides various functions to populate arrays with random numbers across certain ranges. For example, `np.random.randint` generates random integers between a low and high value. The following call populates a 6-element array with random integers between 50 and 100.\n",
        "\n",
        "\n"
      ]
    },
    {
      "cell_type": "code",
      "execution_count": 20,
      "metadata": {
        "id": "tG8ao9CsNqw8"
      },
      "outputs": [
        {
          "name": "stdout",
          "output_type": "stream",
          "text": [
            "[78 61 54 56 74 97]\n"
          ]
        }
      ],
      "source": [
        "random_integers_between_50_and_100 = np.random.randint(low=50, high=101, size=(6,))\n",
        "print(random_integers_between_50_and_100)"
      ]
    },
    {
      "cell_type": "markdown",
      "metadata": {
        "id": "BSU7lMUcgRm3"
      },
      "source": [
        "Note that the highest generated integer `np.random.randint` is one less than the `high` argument."
      ]
    },
    {
      "cell_type": "markdown",
      "metadata": {
        "id": "lQF6-Eg0ksqE"
      },
      "source": [
        "To create random floating-point values between 0.0 and 1.0, call `np.random.random`. For example:"
      ]
    },
    {
      "cell_type": "code",
      "execution_count": 23,
      "metadata": {
        "id": "6Ny0eXZPk5Ax"
      },
      "outputs": [
        {
          "name": "stdout",
          "output_type": "stream",
          "text": [
            "[[0.94447061 0.01389025]\n",
            " [0.70899351 0.71071062]\n",
            " [0.02244957 0.96949233]\n",
            " [0.06856155 0.45994415]\n",
            " [0.79458707 0.15866256]\n",
            " [0.08244778 0.18381074]]\n"
          ]
        }
      ],
      "source": [
        "random_floats_between_0_and_1 = np.random.random((6,2))\n",
        "print(random_floats_between_0_and_1)"
      ]
    },
    {
      "cell_type": "markdown",
      "metadata": {
        "id": "eXOdSjRlSEf6"
      },
      "source": [
        "## Mathematical Operations on NumPy Operands\n",
        "\n",
        "If you want to add or subtract two arrays, linear algebra requires that the two operands have the same dimensions. Furthermore, if you want to multiply two arrays, linear algebra imposes strict rules on the dimensional compatibility of operands. Fortunately, NumPy uses a trick called [**broadcasting**](https://developers.google.com/machine-learning/glossary/#broadcasting) to virtually expand the smaller operand to dimensions compatible for linear algebra. For example, the following operation uses broadcasting to add 2.0 to the value of every item in the array created in the previous code cell:"
      ]
    },
    {
      "cell_type": "code",
      "execution_count": null,
      "metadata": {
        "id": "J5E5S0wjRvQr"
      },
      "outputs": [
        {
          "name": "stdout",
          "output_type": "stream",
          "text": [
            "[[2.94447061 2.01389025]\n",
            " [2.70899351 2.71071062]\n",
            " [2.02244957 2.96949233]\n",
            " [2.06856155 2.45994415]\n",
            " [2.79458707 2.15866256]\n",
            " [2.08244778 2.18381074]]\n"
          ]
        }
      ],
      "source": [
        "random_floats_between_0_and_1 = np.random.random((6,2))\n",
        "random_floats_between_2_and_3 = random_floats_between_0_and_1 + 2.0\n",
        "print(random_floats_between_2_and_3)"
      ]
    },
    {
      "cell_type": "code",
      "execution_count": null,
      "metadata": {},
      "outputs": [
        {
          "name": "stdout",
          "output_type": "stream",
          "text": [
            "<class 'list'>\n",
            "<class 'numpy.ndarray'>\n",
            "[[2.1 2.2]\n",
            " [2.3 2.4]]\n"
          ]
        }
      ],
      "source": [
        "A = [[0.1,0.2],\n",
        "     [0.3,0.4]]\n",
        "print(type(A))\n",
        "A = np.array(A) # To ensure support for broadcasting\n",
        "print(type(A))\n",
        "B1 = 2.0\n",
        "C1 = A+B1 \n",
        "print(C1)"
      ]
    },
    {
      "cell_type": "markdown",
      "metadata": {
        "id": "x6K_poVDPpAg"
      },
      "source": [
        "The following operation also relies on broadcasting to multiply each cell in an array by 3:"
      ]
    },
    {
      "cell_type": "code",
      "execution_count": 48,
      "metadata": {
        "id": "tYjvXmvFPoPB"
      },
      "outputs": [
        {
          "name": "stdout",
          "output_type": "stream",
          "text": [
            "[78 61 54 56 74 97]\n",
            "[156 122 108 112 148 194]\n"
          ]
        }
      ],
      "source": [
        "print(random_integers_between_50_and_100)\n",
        "random_integers_between_150_and_300 = random_integers_between_50_and_100 * 2\n",
        "print(random_integers_between_150_and_300)"
      ]
    },
    {
      "cell_type": "markdown",
      "metadata": {
        "id": "hfYVa8iQTaUL"
      },
      "source": [
        "## Task 1: Create a Linear Dataset\n",
        "\n",
        "Your goal is to create a simple dataset consisting of a single feature and a label as follows:\n",
        "\n",
        "1. Assign a sequence of integers from 6 to 20 (inclusive) to a NumPy array named `feature`.\n",
        "2. Assign 15 values to a NumPy array named `label` such that:\n",
        "\n",
        "```\n",
        "   label = (3)(feature) + 4\n",
        "```\n",
        "For example, the first value for `label` should be:\n",
        "\n",
        "```\n",
        "  label = (3)(6) + 4 = 22\n",
        " ```"
      ]
    },
    {
      "cell_type": "code",
      "execution_count": null,
      "metadata": {
        "id": "qK9UF2rUc3Y_"
      },
      "outputs": [],
      "source": [
        "feature = ? # write your code here\n",
        "print(feature)\n",
        "label = ?   # write your code here\n",
        "print(label)"
      ]
    },
    {
      "cell_type": "code",
      "execution_count": null,
      "metadata": {
        "cellView": "form",
        "id": "KjtIAYvMTPGl"
      },
      "outputs": [],
      "source": [
        "#@title Double-click to see a possible solution to Task 1.\n",
        "feature = np.arange(6, 21)\n",
        "print(feature)\n",
        "label = (feature * 3) + 4\n",
        "print(label)"
      ]
    },
    {
      "cell_type": "markdown",
      "metadata": {
        "id": "RNsjGYRj87PB"
      },
      "source": [
        "## Task 2: Add Some Noise to the Dataset\n",
        "\n",
        "To make your dataset a little more realistic, insert a little random noise into each element of the `label` array you already created. To be more precise, modify each value assigned to `label` by adding a *different* random floating-point value between -2 and +2.\n",
        "\n",
        "Don't rely on broadcasting. Instead, create a `noise` array having the same dimension as `label`."
      ]
    },
    {
      "cell_type": "code",
      "execution_count": null,
      "metadata": {
        "id": "HF-flFfs9r0q"
      },
      "outputs": [],
      "source": [
        "noise = ?    # write your code here\n",
        "print(noise)\n",
        "label = ?    # write your code here\n",
        "print(label)"
      ]
    },
    {
      "cell_type": "code",
      "execution_count": null,
      "metadata": {
        "cellView": "form",
        "id": "7chgYKrC93np"
      },
      "outputs": [],
      "source": [
        "#@title Double-click to see a possible solution to Task 2.\n",
        "\n",
        "noise = (np.random.random([15]) * 4) - 2\n",
        "print(noise)\n",
        "label = label + noise\n",
        "print(label)"
      ]
    }
  ],
  "metadata": {
    "colab": {
      "name": "NumPy UltraQuick Tutorial",
      "private_outputs": true,
      "provenance": []
    },
    "kernelspec": {
      "display_name": ".venv",
      "language": "python",
      "name": "python3"
    },
    "language_info": {
      "codemirror_mode": {
        "name": "ipython",
        "version": 3
      },
      "file_extension": ".py",
      "mimetype": "text/x-python",
      "name": "python",
      "nbconvert_exporter": "python",
      "pygments_lexer": "ipython3",
      "version": "3.12.3"
    }
  },
  "nbformat": 4,
  "nbformat_minor": 0
}
